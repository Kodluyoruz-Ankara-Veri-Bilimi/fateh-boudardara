{
 "cells": [
  {
   "cell_type": "code",
   "execution_count": 1,
   "metadata": {},
   "outputs": [],
   "source": [
    "%matplotlib inline\n",
    "import numpy as np\n",
    "import pandas as pd\n",
    "import matplotlib.pyplot as plt\n",
    "import seaborn as sb \n",
    "import DataHelper as dh\n",
    "#import pandas_profiling as pd_prof\n",
    "\n",
    "import statsmodels.stats.api as sm\n",
    "from scipy import stats\n",
    "import pylab "
   ]
  },
  {
   "cell_type": "code",
   "execution_count": 5,
   "metadata": {},
   "outputs": [
    {
     "data": {
      "text/html": [
       "<div>\n",
       "<style scoped>\n",
       "    .dataframe tbody tr th:only-of-type {\n",
       "        vertical-align: middle;\n",
       "    }\n",
       "\n",
       "    .dataframe tbody tr th {\n",
       "        vertical-align: top;\n",
       "    }\n",
       "\n",
       "    .dataframe thead th {\n",
       "        text-align: right;\n",
       "    }\n",
       "</style>\n",
       "<table border=\"1\" class=\"dataframe\">\n",
       "  <thead>\n",
       "    <tr style=\"text-align: right;\">\n",
       "      <th></th>\n",
       "      <th>bad</th>\n",
       "      <th>loan</th>\n",
       "      <th>mortdue</th>\n",
       "      <th>value</th>\n",
       "      <th>reason</th>\n",
       "      <th>job</th>\n",
       "      <th>yoj</th>\n",
       "      <th>derog</th>\n",
       "      <th>delinq</th>\n",
       "      <th>clage</th>\n",
       "      <th>ninq</th>\n",
       "      <th>clno</th>\n",
       "      <th>debtinc</th>\n",
       "    </tr>\n",
       "  </thead>\n",
       "  <tbody>\n",
       "    <tr>\n",
       "      <th>0</th>\n",
       "      <td>0</td>\n",
       "      <td>81200</td>\n",
       "      <td>18834.0</td>\n",
       "      <td>108355.0</td>\n",
       "      <td>HomeImp</td>\n",
       "      <td>NaN</td>\n",
       "      <td>28.0</td>\n",
       "      <td>0.0</td>\n",
       "      <td>0.0</td>\n",
       "      <td>139.14</td>\n",
       "      <td>0.0</td>\n",
       "      <td>14.0</td>\n",
       "      <td>34.042</td>\n",
       "    </tr>\n",
       "    <tr>\n",
       "      <th>1</th>\n",
       "      <td>0</td>\n",
       "      <td>12600</td>\n",
       "      <td>103960.0</td>\n",
       "      <td>127384.0</td>\n",
       "      <td>DebtCon</td>\n",
       "      <td>NaN</td>\n",
       "      <td>2.0</td>\n",
       "      <td>0.0</td>\n",
       "      <td>0.0</td>\n",
       "      <td>129.02</td>\n",
       "      <td>0.0</td>\n",
       "      <td>25.0</td>\n",
       "      <td>34.479</td>\n",
       "    </tr>\n",
       "    <tr>\n",
       "      <th>2</th>\n",
       "      <td>0</td>\n",
       "      <td>18000</td>\n",
       "      <td>46865.0</td>\n",
       "      <td>61266.0</td>\n",
       "      <td>DebtCon</td>\n",
       "      <td>NaN</td>\n",
       "      <td>5.0</td>\n",
       "      <td>0.0</td>\n",
       "      <td>0.0</td>\n",
       "      <td>102.59</td>\n",
       "      <td>2.0</td>\n",
       "      <td>9.0</td>\n",
       "      <td>26.354</td>\n",
       "    </tr>\n",
       "    <tr>\n",
       "      <th>3</th>\n",
       "      <td>0</td>\n",
       "      <td>10300</td>\n",
       "      <td>57676.0</td>\n",
       "      <td>71027.0</td>\n",
       "      <td>DebtCon</td>\n",
       "      <td>NaN</td>\n",
       "      <td>19.0</td>\n",
       "      <td>0.0</td>\n",
       "      <td>0.0</td>\n",
       "      <td>157.52</td>\n",
       "      <td>1.0</td>\n",
       "      <td>11.0</td>\n",
       "      <td>33.992</td>\n",
       "    </tr>\n",
       "    <tr>\n",
       "      <th>4</th>\n",
       "      <td>0</td>\n",
       "      <td>9400</td>\n",
       "      <td>56508.0</td>\n",
       "      <td>78358.0</td>\n",
       "      <td>DebtCon</td>\n",
       "      <td>NaN</td>\n",
       "      <td>17.0</td>\n",
       "      <td>0.0</td>\n",
       "      <td>0.0</td>\n",
       "      <td>141.93</td>\n",
       "      <td>0.0</td>\n",
       "      <td>11.0</td>\n",
       "      <td>32.327</td>\n",
       "    </tr>\n",
       "  </tbody>\n",
       "</table>\n",
       "</div>"
      ],
      "text/plain": [
       "   bad   loan   mortdue     value   reason  job   yoj  derog  delinq   clage  \\\n",
       "0    0  81200   18834.0  108355.0  HomeImp  NaN  28.0    0.0     0.0  139.14   \n",
       "1    0  12600  103960.0  127384.0  DebtCon  NaN   2.0    0.0     0.0  129.02   \n",
       "2    0  18000   46865.0   61266.0  DebtCon  NaN   5.0    0.0     0.0  102.59   \n",
       "3    0  10300   57676.0   71027.0  DebtCon  NaN  19.0    0.0     0.0  157.52   \n",
       "4    0   9400   56508.0   78358.0  DebtCon  NaN  17.0    0.0     0.0  141.93   \n",
       "\n",
       "   ninq  clno  debtinc  \n",
       "0   0.0  14.0   34.042  \n",
       "1   0.0  25.0   34.479  \n",
       "2   2.0   9.0   26.354  \n",
       "3   1.0  11.0   33.992  \n",
       "4   0.0  11.0   32.327  "
      ]
     },
     "execution_count": 5,
     "metadata": {},
     "output_type": "execute_result"
    }
   ],
   "source": [
    "data = pd.read_csv('./data/hmelq.csv')\n",
    "data.head()"
   ]
  },
  {
   "cell_type": "code",
   "execution_count": 6,
   "metadata": {},
   "outputs": [
    {
     "name": "stdout",
     "output_type": "stream",
     "text": [
      "count      3409\n",
      "unique        6\n",
      "top       Other\n",
      "freq       1431\n",
      "Name: job, dtype: object\n"
     ]
    }
   ],
   "source": [
    "dh.Information(data).printDescCol('job')"
   ]
  },
  {
   "cell_type": "code",
   "execution_count": 7,
   "metadata": {},
   "outputs": [
    {
     "name": "stdout",
     "output_type": "stream",
     "text": [
      "The first 5 elements of the data\n",
      "   bad   loan   mortdue     value   reason  job   yoj  derog  delinq   clage  \\\n",
      "0    0  81200   18834.0  108355.0  HomeImp  NaN  28.0    0.0     0.0  139.14   \n",
      "1    0  12600  103960.0  127384.0  DebtCon  NaN   2.0    0.0     0.0  129.02   \n",
      "2    0  18000   46865.0   61266.0  DebtCon  NaN   5.0    0.0     0.0  102.59   \n",
      "3    0  10300   57676.0   71027.0  DebtCon  NaN  19.0    0.0     0.0  157.52   \n",
      "4    0   9400   56508.0   78358.0  DebtCon  NaN  17.0    0.0     0.0  141.93   \n",
      "\n",
      "   ninq  clno  debtinc  \n",
      "0   0.0  14.0   34.042  \n",
      "1   0.0  25.0   34.479  \n",
      "2   2.0   9.0   26.354  \n",
      "3   1.0  11.0   33.992  \n",
      "4   0.0  11.0   32.327  \n",
      "\n",
      "Nb Columns:  13\n",
      "Nb Records:  3576\n",
      "Nb records null: 3164\n",
      "\n",
      "Nb records null by columns:\n",
      "bad          0\n",
      "loan         0\n",
      "mortdue    314\n",
      "value       64\n",
      "reason     147\n",
      "job        167\n",
      "yoj        312\n",
      "derog      427\n",
      "delinq     351\n",
      "clage      179\n",
      "ninq       303\n",
      "clno       133\n",
      "debtinc    767\n",
      "dtype: int64\n"
     ]
    }
   ],
   "source": [
    "dataInfo = dh.Information(data)\n",
    "dataInfo.printInfo()"
   ]
  },
  {
   "cell_type": "markdown",
   "metadata": {},
   "source": [
    "### Data Desscription\n",
    "We can see that the data contains many NaN values (null)"
   ]
  },
  {
   "cell_type": "code",
   "execution_count": 8,
   "metadata": {},
   "outputs": [
    {
     "name": "stdout",
     "output_type": "stream",
     "text": [
      "               bad          loan        mortdue          value          yoj  \\\n",
      "count  3576.000000   3576.000000    3262.000000    3512.000000  3264.000000   \n",
      "mean      0.199385  18529.697987   74013.907992  101076.922759     8.832644   \n",
      "std       0.399594  11262.834060   44016.833772   54865.275351     7.568046   \n",
      "min       0.000000   1100.000000    2619.000000    8800.000000     0.000000   \n",
      "25%       0.000000  11000.000000   46700.250000   65753.000000     3.000000   \n",
      "50%       0.000000  16200.000000   65858.000000   89183.000000     7.000000   \n",
      "75%       0.000000  23100.000000   91717.000000  118928.250000    13.000000   \n",
      "max       1.000000  89900.000000  399550.000000  850000.000000    41.000000   \n",
      "\n",
      "             derog       delinq        clage         ninq         clno  \\\n",
      "count  3149.000000  3225.000000  3397.000000  3273.000000  3443.000000   \n",
      "mean      0.261670     0.432558   179.832529     1.186373    21.507116   \n",
      "std       0.865178     1.099230    87.066198     1.728723    10.167490   \n",
      "min       0.000000     0.000000     0.490000     0.000000     0.000000   \n",
      "25%       0.000000     0.000000   115.600000     0.000000    15.000000   \n",
      "50%       0.000000     0.000000   173.640000     1.000000    20.000000   \n",
      "75%       0.000000     0.000000   230.710000     2.000000    26.000000   \n",
      "max      10.000000    15.000000  1168.230000    17.000000    71.000000   \n",
      "\n",
      "           debtinc  \n",
      "count  2809.000000  \n",
      "mean     33.831737  \n",
      "std       9.061837  \n",
      "min       0.720000  \n",
      "25%      29.140000  \n",
      "50%      34.747000  \n",
      "75%      38.940000  \n",
      "max     203.312000  \n"
     ]
    }
   ],
   "source": [
    "dataInfo.printDesc()"
   ]
  },
  {
   "cell_type": "code",
   "execution_count": 9,
   "metadata": {},
   "outputs": [
    {
     "ename": "NameError",
     "evalue": "name 'dataNoNa' is not defined",
     "output_type": "error",
     "traceback": [
      "\u001b[1;31m---------------------------------------------------------------------------\u001b[0m",
      "\u001b[1;31mNameError\u001b[0m                                 Traceback (most recent call last)",
      "\u001b[1;32m<ipython-input-9-8cc70ab47d0f>\u001b[0m in \u001b[0;36m<module>\u001b[1;34m\u001b[0m\n\u001b[1;32m----> 1\u001b[1;33m \u001b[0mdh\u001b[0m\u001b[1;33m.\u001b[0m\u001b[0mInformation\u001b[0m\u001b[1;33m(\u001b[0m\u001b[0mdataNoNa\u001b[0m\u001b[1;33m)\u001b[0m\u001b[1;33m.\u001b[0m\u001b[0mprintDesc\u001b[0m\u001b[1;33m(\u001b[0m\u001b[1;33m)\u001b[0m\u001b[1;33m\u001b[0m\u001b[1;33m\u001b[0m\u001b[0m\n\u001b[0m",
      "\u001b[1;31mNameError\u001b[0m: name 'dataNoNa' is not defined"
     ]
    }
   ],
   "source": [
    "dh.Information(dataNoNa).printDesc()"
   ]
  },
  {
   "cell_type": "markdown",
   "metadata": {},
   "source": [
    "### Filling NaN values\n",
    "The numeric values are filled using Linear Interpolation by rows. And the Alphabetic values are changed later, by changing NaN to 'Not Specified' for job and reason (can not apply interpolation on non numeric values)."
   ]
  },
  {
   "cell_type": "code",
   "execution_count": null,
   "metadata": {},
   "outputs": [],
   "source": [
    "preData = dh.PreProcessing(data)\n",
    "dataNoNa = preData.fillnaStrategyRow('linear')\n",
    "dh.Information(dataNoNa).printInfo()"
   ]
  },
  {
   "cell_type": "code",
   "execution_count": null,
   "metadata": {},
   "outputs": [],
   "source": [
    "dataNoNa['job'].fillna('No Specified', inplace=True)\n",
    "dataNoNa['reason'].fillna('No Specified', inplace=True)"
   ]
  },
  {
   "cell_type": "markdown",
   "metadata": {},
   "source": [
    "We can see here clearly that our data is clear now, it doesnt contain any NaN."
   ]
  },
  {
   "cell_type": "code",
   "execution_count": null,
   "metadata": {},
   "outputs": [],
   "source": [
    "dh.Information(dataNoNa).printInfo()\n",
    "dataNoNa.head()"
   ]
  },
  {
   "cell_type": "code",
   "execution_count": null,
   "metadata": {},
   "outputs": [],
   "source": [
    "dh.Visulizer(dataNoNa, None).drawHist('job')"
   ]
  },
  {
   "cell_type": "code",
   "execution_count": null,
   "metadata": {},
   "outputs": [],
   "source": [
    "dh.Visulizer(dataNoNa, None).drawHist('reason')"
   ]
  },
  {
   "cell_type": "markdown",
   "metadata": {},
   "source": [
    "The correlation table between all features. "
   ]
  },
  {
   "cell_type": "code",
   "execution_count": null,
   "metadata": {},
   "outputs": [],
   "source": [
    "corr = dataNoNa.corr()\n",
    "corr.style.background_gradient(cmap='coolwarm')"
   ]
  },
  {
   "cell_type": "code",
   "execution_count": null,
   "metadata": {},
   "outputs": [],
   "source": [
    "#sb.scatterplot(data = dataNoNa, x='clno', )\n",
    "fig = plt.figure(figsize = [15,10])\n",
    "plt.subplot(2,2,1)\n",
    "sb.regplot(data=dataNoNa, x='mortdue', y='value', fit_reg=True)\n",
    "\n",
    "\n",
    "plt.subplot(2,2,2)\n",
    "sb.regplot(data=dataNoNa, x='mortdue', y='clno', fit_reg=True)\n",
    "\n",
    "plt.subplot(2,2,3)\n",
    "sb.regplot(data=dataNoNa, x='loan', y='value', fit_reg=True)"
   ]
  },
  {
   "cell_type": "code",
   "execution_count": null,
   "metadata": {},
   "outputs": [],
   "source": [
    "#bins = bins = np.arange(0, pokemon['speed'].max()+5, 5)\n",
    "print(dataNoNa['yoj'].max())\n",
    "print(dataNoNa['yoj'].min())\n",
    "print(dataNoNa['yoj'].mean())\n"
   ]
  },
  {
   "cell_type": "code",
   "execution_count": 11,
   "metadata": {},
   "outputs": [
    {
     "data": {
      "text/html": [
       "<div>\n",
       "<style scoped>\n",
       "    .dataframe tbody tr th:only-of-type {\n",
       "        vertical-align: middle;\n",
       "    }\n",
       "\n",
       "    .dataframe tbody tr th {\n",
       "        vertical-align: top;\n",
       "    }\n",
       "\n",
       "    .dataframe thead th {\n",
       "        text-align: right;\n",
       "    }\n",
       "</style>\n",
       "<table border=\"1\" class=\"dataframe\">\n",
       "  <thead>\n",
       "    <tr style=\"text-align: right;\">\n",
       "      <th>job</th>\n",
       "      <th>Mgr</th>\n",
       "      <th>Office</th>\n",
       "      <th>Other</th>\n",
       "      <th>ProfEx</th>\n",
       "      <th>Sales</th>\n",
       "      <th>Self</th>\n",
       "    </tr>\n",
       "    <tr>\n",
       "      <th>bad</th>\n",
       "      <th></th>\n",
       "      <th></th>\n",
       "      <th></th>\n",
       "      <th></th>\n",
       "      <th></th>\n",
       "      <th></th>\n",
       "    </tr>\n",
       "  </thead>\n",
       "  <tbody>\n",
       "    <tr>\n",
       "      <th>0</th>\n",
       "      <td>0.767896</td>\n",
       "      <td>0.86819</td>\n",
       "      <td>0.767994</td>\n",
       "      <td>0.833116</td>\n",
       "      <td>0.651515</td>\n",
       "      <td>0.704348</td>\n",
       "    </tr>\n",
       "    <tr>\n",
       "      <th>1</th>\n",
       "      <td>0.232104</td>\n",
       "      <td>0.13181</td>\n",
       "      <td>0.232006</td>\n",
       "      <td>0.166884</td>\n",
       "      <td>0.348485</td>\n",
       "      <td>0.295652</td>\n",
       "    </tr>\n",
       "  </tbody>\n",
       "</table>\n",
       "</div>"
      ],
      "text/plain": [
       "job       Mgr   Office     Other    ProfEx     Sales      Self\n",
       "bad                                                           \n",
       "0    0.767896  0.86819  0.767994  0.833116  0.651515  0.704348\n",
       "1    0.232104  0.13181  0.232006  0.166884  0.348485  0.295652"
      ]
     },
     "execution_count": 11,
     "metadata": {},
     "output_type": "execute_result"
    }
   ],
   "source": [
    "pd.crosstab(index=data['bad'], columns=data['job'], normalize='columns')"
   ]
  },
  {
   "cell_type": "code",
   "execution_count": 12,
   "metadata": {},
   "outputs": [
    {
     "data": {
      "text/html": [
       "<div>\n",
       "<style scoped>\n",
       "    .dataframe tbody tr th:only-of-type {\n",
       "        vertical-align: middle;\n",
       "    }\n",
       "\n",
       "    .dataframe tbody tr th {\n",
       "        vertical-align: top;\n",
       "    }\n",
       "\n",
       "    .dataframe thead th {\n",
       "        text-align: right;\n",
       "    }\n",
       "</style>\n",
       "<table border=\"1\" class=\"dataframe\">\n",
       "  <thead>\n",
       "    <tr style=\"text-align: right;\">\n",
       "      <th>job</th>\n",
       "      <th>Mgr</th>\n",
       "      <th>Office</th>\n",
       "      <th>Other</th>\n",
       "      <th>ProfEx</th>\n",
       "      <th>Sales</th>\n",
       "      <th>Self</th>\n",
       "    </tr>\n",
       "    <tr>\n",
       "      <th>bad</th>\n",
       "      <th></th>\n",
       "      <th></th>\n",
       "      <th></th>\n",
       "      <th></th>\n",
       "      <th></th>\n",
       "      <th></th>\n",
       "    </tr>\n",
       "  </thead>\n",
       "  <tbody>\n",
       "    <tr>\n",
       "      <th>0</th>\n",
       "      <td>0.103843</td>\n",
       "      <td>0.144911</td>\n",
       "      <td>0.322382</td>\n",
       "      <td>0.187445</td>\n",
       "      <td>0.012614</td>\n",
       "      <td>0.023761</td>\n",
       "    </tr>\n",
       "    <tr>\n",
       "      <th>1</th>\n",
       "      <td>0.031388</td>\n",
       "      <td>0.022001</td>\n",
       "      <td>0.097389</td>\n",
       "      <td>0.037548</td>\n",
       "      <td>0.006747</td>\n",
       "      <td>0.009974</td>\n",
       "    </tr>\n",
       "  </tbody>\n",
       "</table>\n",
       "</div>"
      ],
      "text/plain": [
       "job       Mgr    Office     Other    ProfEx     Sales      Self\n",
       "bad                                                            \n",
       "0    0.103843  0.144911  0.322382  0.187445  0.012614  0.023761\n",
       "1    0.031388  0.022001  0.097389  0.037548  0.006747  0.009974"
      ]
     },
     "execution_count": 12,
     "metadata": {},
     "output_type": "execute_result"
    }
   ],
   "source": [
    "pd.crosstab(index=data['bad'], columns=data['job'], normalize=True)"
   ]
  },
  {
   "cell_type": "code",
   "execution_count": null,
   "metadata": {},
   "outputs": [],
   "source": [
    "pd.crosstab(index=data['bad'], columns=data['reason'], normalize='columns')"
   ]
  },
  {
   "cell_type": "code",
   "execution_count": null,
   "metadata": {},
   "outputs": [],
   "source": [
    "sb.regplot(dataNoNa['yoj'], dataNoNa['bad'], x_jitter=0.3, scatter_kws={'alpha': 0.2},fit_reg=False)"
   ]
  },
  {
   "cell_type": "code",
   "execution_count": null,
   "metadata": {},
   "outputs": [],
   "source": [
    "stats.ttest_ind(dataNoNa[\"clno\"], dataNoNa[\"mortdue\"], equal_var=True)"
   ]
  },
  {
   "cell_type": "code",
   "execution_count": null,
   "metadata": {},
   "outputs": [],
   "source": [
    "# Gaussian Distribution\n",
    "stat, p = stats.shapiro(dataNoNa['loan'])\n",
    "print(\"Stats = %0.2f, P= %0.2f\"%(stat, p))\n",
    "alpha = 0.05\n",
    "if p > alpha:\n",
    "    print('Is a Gaussian distribution (Fail to Reject H0)')\n",
    "else:\n",
    "    print('Not a Gaussian distribtion (reject H0)')"
   ]
  },
  {
   "cell_type": "code",
   "execution_count": null,
   "metadata": {},
   "outputs": [],
   "source": [
    "stat, p = stats.shapiro(dataNoNa['loan'])\n",
    "print(\"Stats = %0.2f, P= %0.2f\"%(stat, p))\n",
    "alpha = 0.05\n",
    "if p > alpha:\n",
    "    print('Is a Gaussian distribution (Fail to Reject H0)')\n",
    "else:\n",
    "    print('Not a Gaussian distribtion (reject H0)')"
   ]
  }
 ],
 "metadata": {
  "kernelspec": {
   "display_name": "Python 3",
   "language": "python",
   "name": "python3"
  },
  "language_info": {
   "codemirror_mode": {
    "name": "ipython",
    "version": 3
   },
   "file_extension": ".py",
   "mimetype": "text/x-python",
   "name": "python",
   "nbconvert_exporter": "python",
   "pygments_lexer": "ipython3",
   "version": "3.7.7"
  }
 },
 "nbformat": 4,
 "nbformat_minor": 4
}
